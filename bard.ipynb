{
  "nbformat": 4,
  "nbformat_minor": 0,
  "metadata": {
    "colab": {
      "provenance": [],
      "mount_file_id": "15dz4nQfCiWGp-_9zLIc1S60tY0JAWVdZ",
      "authorship_tag": "ABX9TyOXulJTYZX89PT+frKehziJ",
      "include_colab_link": true
    },
    "kernelspec": {
      "name": "python3",
      "display_name": "Python 3"
    },
    "language_info": {
      "name": "python"
    }
  },
  "cells": [
    {
      "cell_type": "markdown",
      "metadata": {
        "id": "view-in-github",
        "colab_type": "text"
      },
      "source": [
        "<a href=\"https://colab.research.google.com/github/thegallier/Differential-DNN/blob/main/bard.ipynb\" target=\"_parent\"><img src=\"https://colab.research.google.com/assets/colab-badge.svg\" alt=\"Open In Colab\"/></a>"
      ]
    },
    {
      "cell_type": "code",
      "execution_count": null,
      "metadata": {
        "id": "Kogk3GrxWQoR"
      },
      "outputs": [],
      "source": [
        "api_key=\"bwji2djOrET71JanheyXa4W183xUATNPCqz0jUBjzCVG2-YkExPZBXyr0p7EAResKqmdQA.\""
      ]
    },
    {
      "cell_type": "code",
      "source": [
        "! pip install bardapi==0.1.23a"
      ],
      "metadata": {
        "colab": {
          "base_uri": "https://localhost:8080/"
        },
        "id": "WMBT0_XaWm32",
        "outputId": "86a96261-403f-42f8-84f3-c015e6f91dc8"
      },
      "execution_count": null,
      "outputs": [
        {
          "output_type": "stream",
          "name": "stdout",
          "text": [
            "Requirement already satisfied: bardapi==0.1.23a in /usr/local/lib/python3.10/dist-packages (0.1.23a0)\n",
            "Requirement already satisfied: requests in /usr/local/lib/python3.10/dist-packages (from bardapi==0.1.23a) (2.31.0)\n",
            "Requirement already satisfied: colorama in /usr/local/lib/python3.10/dist-packages (from bardapi==0.1.23a) (0.4.6)\n",
            "Requirement already satisfied: httpx[http2] in /usr/local/lib/python3.10/dist-packages (from bardapi==0.1.23a) (0.25.0)\n",
            "Requirement already satisfied: certifi in /usr/local/lib/python3.10/dist-packages (from httpx[http2]->bardapi==0.1.23a) (2023.7.22)\n",
            "Requirement already satisfied: httpcore<0.19.0,>=0.18.0 in /usr/local/lib/python3.10/dist-packages (from httpx[http2]->bardapi==0.1.23a) (0.18.0)\n",
            "Requirement already satisfied: idna in /usr/local/lib/python3.10/dist-packages (from httpx[http2]->bardapi==0.1.23a) (3.4)\n",
            "Requirement already satisfied: sniffio in /usr/local/lib/python3.10/dist-packages (from httpx[http2]->bardapi==0.1.23a) (1.3.0)\n",
            "Requirement already satisfied: h2<5,>=3 in /usr/local/lib/python3.10/dist-packages (from httpx[http2]->bardapi==0.1.23a) (4.1.0)\n",
            "Requirement already satisfied: charset-normalizer<4,>=2 in /usr/local/lib/python3.10/dist-packages (from requests->bardapi==0.1.23a) (3.3.0)\n",
            "Requirement already satisfied: urllib3<3,>=1.21.1 in /usr/local/lib/python3.10/dist-packages (from requests->bardapi==0.1.23a) (2.0.6)\n",
            "Requirement already satisfied: hyperframe<7,>=6.0 in /usr/local/lib/python3.10/dist-packages (from h2<5,>=3->httpx[http2]->bardapi==0.1.23a) (6.0.1)\n",
            "Requirement already satisfied: hpack<5,>=4.0 in /usr/local/lib/python3.10/dist-packages (from h2<5,>=3->httpx[http2]->bardapi==0.1.23a) (4.0.0)\n",
            "Requirement already satisfied: anyio<5.0,>=3.0 in /usr/local/lib/python3.10/dist-packages (from httpcore<0.19.0,>=0.18.0->httpx[http2]->bardapi==0.1.23a) (3.7.1)\n",
            "Requirement already satisfied: h11<0.15,>=0.13 in /usr/local/lib/python3.10/dist-packages (from httpcore<0.19.0,>=0.18.0->httpx[http2]->bardapi==0.1.23a) (0.14.0)\n",
            "Requirement already satisfied: exceptiongroup in /usr/local/lib/python3.10/dist-packages (from anyio<5.0,>=3.0->httpcore<0.19.0,>=0.18.0->httpx[http2]->bardapi==0.1.23a) (1.1.3)\n"
          ]
        }
      ]
    },
    {
      "cell_type": "code",
      "source": [
        "from bardapi import Bard\n",
        "import os\n",
        "api_key=\"cAji2S_OWaHLk5V_kBlJs28HVuBG2POrJseGuQxTuufFFeCQkL6HBHhzuzNCcP2bPY0gCQ.\"\n",
        "api_key=\"cAji2S_OWaHLk5V_kBlJs28HVuBG2POrJseGuQxTuufFFeCQkL6HBHhzuzNCcP2bPY0gCQ.\"\n",
        "\n",
        "os.environ[\"_BARD_API_KEY\"]=api_key\n",
        "bard = Bard(token=api_key)\n",
        "a=bard.get_answer(\"please read the following link https://s3.amazonaws.com/artifacts.opencypher.org/openCypher9.pdf.  Tell me what this is about\")['content']"
      ],
      "metadata": {
        "id": "6lSLYlSqWnug"
      },
      "execution_count": null,
      "outputs": []
    },
    {
      "cell_type": "code",
      "source": [
        "print(a)"
      ],
      "metadata": {
        "colab": {
          "base_uri": "https://localhost:8080/"
        },
        "id": "xWzaTfm020AN",
        "outputId": "eb42b9e4-dc44-41c1-c716-bd7591cb89f2"
      },
      "execution_count": null,
      "outputs": [
        {
          "output_type": "stream",
          "name": "stdout",
          "text": [
            "The PDF you linked to is the OpenCypher 9 Language Reference. OpenCypher is a declarative graph query language that is used to query and manipulate graph databases. It is the standard query language for Neo4j, the most popular graph database.\n",
            "\n",
            "The OpenCypher 9 Language Reference provides a comprehensive overview of the OpenCypher language, including its syntax, semantics, and features. It also includes examples of how to use OpenCypher to perform common graph database operations, such as:\n",
            "\n",
            "* Finding nodes and relationships in a graph\n",
            "* Creating, updating, and deleting nodes and relationships\n",
            "* Traversing graphs\n",
            "* Aggregating data from graphs\n",
            "* Using patterns to match nodes and relationships in a graph\n",
            "\n",
            "The OpenCypher 9 Language Reference is a valuable resource for anyone who wants to learn more about OpenCypher or use it to query graph databases.\n",
            "\n",
            "Here are some of the key features of OpenCypher:\n",
            "\n",
            "* It is a declarative language, which means that you tell OpenCypher what you want to achieve, but not how to achieve it. This makes OpenCypher easy to learn and use, even if you are not familiar with graph databases.\n",
            "* It is expressive, which means that you can use it to perform a wide range of graph database operations.\n",
            "* It is scalable, which means that it can be used to query graphs of any size.\n",
            "* It is portable, which means that you can use it with any graph database that supports OpenCypher.\n",
            "\n",
            "OpenCypher is a powerful and versatile graph query language that can be used to solve a wide range of problems. It is used by companies of all sizes, in a variety of industries, to power their graph databases.\n"
          ]
        }
      ]
    },
    {
      "cell_type": "code",
      "source": [
        "a=bard.get_answer(\"please make me 10 examples of the cypher language from the manual: a question in plain English, the schema to answer the question, the cypher query and the answer.  Please output in json format with keys schema, question, query, answer\")['content']"
      ],
      "metadata": {
        "id": "EeWUREW43Hz6"
      },
      "execution_count": null,
      "outputs": []
    },
    {
      "cell_type": "code",
      "source": [
        "print(a)"
      ],
      "metadata": {
        "colab": {
          "base_uri": "https://localhost:8080/"
        },
        "id": "2qtAhDn33pb_",
        "outputId": "f14b17de-1ad4-4cfb-febd-a285e8ec7e43"
      },
      "execution_count": null,
      "outputs": [
        {
          "output_type": "stream",
          "name": "stdout",
          "text": [
            "Response Error: b')]}\\'\\n\\n38\\n[[\"wrb.fr\",null,null,null,null,[9]]]\\n57\\n[[\"di\",188],[\"af.httprm\",188,\"-2269717725511903348\",1]]\\n25\\n[[\"e\",4,null,null,132]]\\n'. \n",
            "Temporarily unavailable due to traffic or an error in cookie values. Please double-check the cookie values and verify your network environment.\n"
          ]
        }
      ]
    },
    {
      "cell_type": "code",
      "source": [
        "res=a"
      ],
      "metadata": {
        "id": "U4oSy6fx32a6"
      },
      "execution_count": null,
      "outputs": []
    },
    {
      "cell_type": "code",
      "source": [
        "b=bard.get_answer(\"please make me 10 examples of the cypher language from the manual: a question in plain English, the schema to answer the question, the cypher query and the answer.  Please output in json format with keys schema, question, query, answer.  only output the list of json dictionaries no other output\")['content']"
      ],
      "metadata": {
        "id": "efBGEi0333_A"
      },
      "execution_count": null,
      "outputs": []
    },
    {
      "cell_type": "code",
      "source": [
        "import json\n",
        "c=[]"
      ],
      "metadata": {
        "id": "6_RDOXmd4M5B"
      },
      "execution_count": null,
      "outputs": []
    },
    {
      "cell_type": "code",
      "source": [
        "import time\n",
        "import numpy as np\n",
        "\n",
        "for i in range(1000):\n",
        "  try:\n",
        "    time.sleep(12+np.random.randint(3))\n",
        "    b=bard.get_answer(\"please make me another 10 examples of the cypher language from the manual: a question in plain English, the schema to answer the question, the cypher query and the answer.  Please output in json format with keys schema, question, query, answer.  only output the list of json dictionaries no other output\")['content']\n",
        "    c.append(b)\n",
        "    if i%50 == 0:\n",
        "      print(\" loop : \",i)\n",
        "      with open('/content/drive/MyDrive/edgar-data/bardqa-'+str(i),\"wb\") as f:\n",
        "        pickle.dump(c,f)\n",
        "  except:\n",
        "    pass"
      ],
      "metadata": {
        "colab": {
          "base_uri": "https://localhost:8080/"
        },
        "id": "o-IVEKd549Xh",
        "outputId": "96e4abad-a043-49bc-d67c-b3f6e2c69b3e"
      },
      "execution_count": null,
      "outputs": [
        {
          "output_type": "stream",
          "name": "stdout",
          "text": [
            " loop :  0\n",
            " loop :  50\n"
          ]
        }
      ]
    },
    {
      "cell_type": "code",
      "source": [
        "# in chrome go to bard.google.com f12 applications cookies ssid _secure**1d"
      ],
      "metadata": {
        "id": "rCshVHiq7FFl"
      },
      "execution_count": null,
      "outputs": []
    },
    {
      "cell_type": "code",
      "source": [
        "import pickle\n",
        "with open('/content/drive/MyDrive/edgar-data/bardqa',\"wb\") as f:\n",
        "  pickle.dump(c,f)"
      ],
      "metadata": {
        "id": "4Lv4cWVQ5vOt"
      },
      "execution_count": null,
      "outputs": []
    },
    {
      "cell_type": "code",
      "source": [
        "import re\n",
        "\n",
        "import re\n",
        "\n",
        "def validate_query_against_schema(query, schema):\n",
        "    # Regex patterns to find nodes, relationships, and properties in the query\n",
        "    node_pattern = re.compile(r'\\((\\w+):(\\w+)(\\s*\\{[^\\}]*\\})?\\)')\n",
        "    rel_pattern = re.compile(r'\\[\\s*(\\w+)?\\s*:\\s*(\\w+)(\\s*\\{[^\\}]*\\})?\\s*\\]')\n",
        "    prop_pattern = re.compile(r'(\\w+)\\s*:\\s*')\n",
        "\n",
        "    # Find all nodes and relationships in the query\n",
        "    nodes = node_pattern.findall(query)\n",
        "    relationships = rel_pattern.findall(query)\n",
        "\n",
        "    # Validate nodes\n",
        "    for _, label, properties in nodes:\n",
        "        if label not in schema:\n",
        "            return False, f\"Node label '{label}' not in schema.\"\n",
        "\n",
        "        # Check properties\n",
        "        if properties:\n",
        "            props = prop_pattern.findall(properties)\n",
        "            for prop in props:\n",
        "                if prop not in schema[label]:\n",
        "                    return False, f\"Property '{prop}' not valid for '{label}'.\"\n",
        "\n",
        "    # Validate relationships\n",
        "    for _, rel_type, properties in relationships:\n",
        "        if rel_type not in schema[\"Relationships\"]:\n",
        "            return False, f\"Relationship type '{rel_type}' not in schema.\"\n",
        "\n",
        "        # Check relationship properties\n",
        "        if properties:\n",
        "            rel_schema = schema[\"Relationships\"][rel_type]\n",
        "            props = prop_pattern.findall(properties)\n",
        "            for prop in props:\n",
        "                if prop not in rel_schema[\"properties\"]:\n",
        "                    return False, f\"Property '{prop}' not valid for relationship '{rel_type}'.\"\n",
        "\n",
        "    return True, \"Query conforms to schema.\"\n",
        "\n",
        "# Schema definition\n",
        "schema = {\n",
        "    \"Person\": [\"actorName\", \"yearBorn\"],\n",
        "    \"Movie\": [\"movieTitle\", \"rating\", \"genre\"],\n",
        "    \"Relationships\": {\n",
        "        \"ACTED\": {\"from\": \"Person\", \"to\": \"Movie\", \"properties\": [\"role\"]}\n",
        "    }\n",
        "}\n",
        "\n",
        "# Example query\n",
        "query = \"MATCH (p:Person {actorName: 'Tom Hanks'})-[r:ACTED {role: 'Forrest'}]->(m:Movie {movieTitle: 'Forrest Gump', rating: 8.8, genre: 'Drama'}) RETURN p, r, m\"\n",
        "\n",
        "# Validate the query\n",
        "result, message = validate_query_against_schema(query, schema)\n",
        "print(message)\n"
      ],
      "metadata": {
        "colab": {
          "base_uri": "https://localhost:8080/"
        },
        "id": "QII1OBzwv8ji",
        "outputId": "c9a69357-2dab-4bef-af1b-57dd68e48ae0"
      },
      "execution_count": 9,
      "outputs": [
        {
          "output_type": "stream",
          "name": "stdout",
          "text": [
            "Query conforms to schema.\n"
          ]
        }
      ]
    }
  ]
}